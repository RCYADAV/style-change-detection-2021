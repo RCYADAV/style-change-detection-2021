{
 "cells": [
  {
   "cell_type": "code",
   "execution_count": 1,
   "metadata": {},
   "outputs": [],
   "source": [
    "import sys\n",
    "import pickle\n",
    "import os\n",
    "import glob\n",
    "import time\n",
    "import torch"
   ]
  },
  {
   "cell_type": "code",
   "execution_count": 2,
   "metadata": {},
   "outputs": [],
   "source": [
    "from SentenceEmbedding import generate_embeddings"
   ]
  },
  {
   "cell_type": "code",
   "execution_count": 3,
   "metadata": {},
   "outputs": [
    {
     "data": {
      "text/plain": [
       "11200"
      ]
     },
     "execution_count": 3,
     "metadata": {},
     "output_type": "execute_result"
    }
   ],
   "source": [
    "input_dir = 'C:\\\\Users\\\\Asus\\\\Desktop\\\\dataset_2021'\n",
    "output_dir = 'C:\\\\Users\\\\Asus\\\\Desktop\\\\dataset_2021'\n",
    "\n",
    "output_path_paragraph = output_dir + '\\\\paragraph_embedding_train'\n",
    "output_path_document  = output_dir + '\\\\document_embedding_train'\n",
    "input_path = input_dir + '\\\\train'\n",
    "\n",
    "os.makedirs(output_path_paragraph, exist_ok= True)\n",
    "os.makedirs(output_path_document, exist_ok= True)\n",
    "\n",
    "data_path = glob.glob(input_path + '\\\\*.txt')\n",
    "len(data_path)"
   ]
  },
  {
   "cell_type": "code",
   "execution_count": 4,
   "metadata": {},
   "outputs": [],
   "source": [
    "generate_embeddings(data_path, input_path , output_path_paragraph, output_path_document)"
   ]
  },
  {
   "cell_type": "code",
   "execution_count": 9,
   "metadata": {},
   "outputs": [],
   "source": [
    "# generate embedding for validation data\n",
    "validation_input_dir = 'C:\\\\Users\\\\Asus\\\\Desktop\\\\dataset_2021\\\\validation'\n",
    "validation_output_dir = 'C:\\\\Users\\\\Asus\\\\Desktop\\\\dataset_2021\\\\validation_embedding'\n",
    "\n",
    "validation_input_path = validation_input_dir + '\\\\*.txt'\n",
    "validation_data_path = glob.glob(validation_input_path)\n",
    "\n",
    "validation_output_path_para = validation_output_dir + '\\\\paragraph_embedding'\n",
    "validation_output_path_docu = validation_output_dir + '\\\\document_embedding'\n",
    "\n",
    "os.makedirs(validation_output_path_para, exist_ok= True)\n",
    "os.makedirs(validation_output_path_docu, exist_ok= True)\n",
    "\n",
    "generate_embeddings(validation_data_path, validation_input_dir , validation_output_path_para, validation_output_path_docu)\n"
   ]
  }
 ],
 "metadata": {
  "kernelspec": {
   "display_name": "Python 3",
   "language": "python",
   "name": "python3"
  },
  "language_info": {
   "codemirror_mode": {
    "name": "ipython",
    "version": 3
   },
   "file_extension": ".py",
   "mimetype": "text/x-python",
   "name": "python",
   "nbconvert_exporter": "python",
   "pygments_lexer": "ipython3",
   "version": "3.7.4"
  }
 },
 "nbformat": 4,
 "nbformat_minor": 2
}
