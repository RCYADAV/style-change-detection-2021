{
  "nbformat": 4,
  "nbformat_minor": 0,
  "metadata": {
    "kernelspec": {
      "display_name": "Python 3",
      "language": "python",
      "name": "python3"
    },
    "language_info": {
      "codemirror_mode": {
        "name": "ipython",
        "version": 3
      },
      "file_extension": ".py",
      "mimetype": "text/x-python",
      "name": "python",
      "nbconvert_exporter": "python",
      "pygments_lexer": "ipython3",
      "version": "3.7.4"
    },
    "colab": {
      "name": "Task2_Training.ipynb",
      "provenance": []
    }
  },
  "cells": [
    {
      "cell_type": "code",
      "metadata": {
        "id": "yS_FjAb4WdLO"
      },
      "source": [
        "import pandas as pd\n",
        "import glob\n",
        "import numpy as np\n",
        "import json\n",
        "import torch\n",
        "import os\n",
        "import seaborn as sns\n",
        "from collections import Counter"
      ],
      "execution_count": null,
      "outputs": []
    },
    {
      "cell_type": "code",
      "metadata": {
        "id": "DDaWZPIVWdLb",
        "outputId": "ee1e5148-8844-4acb-e3de-0f41cc81750a"
      },
      "source": [
        "path = 'C:\\\\Users\\\\Asus\\\\Desktop\\\\dataset_2021'\n",
        "input_dir = path+'\\\\paragraph_embedding_train'\n",
        "data_path = glob.glob(input_dir+'\\\\*.pt')\n",
        "label = glob.glob(path+'\\\\train\\\\*.txt')\n",
        "len(data_path), len(label)"
      ],
      "execution_count": null,
      "outputs": [
        {
          "output_type": "execute_result",
          "data": {
            "text/plain": [
              "(11200, 11200)"
            ]
          },
          "metadata": {
            "tags": []
          },
          "execution_count": 2
        }
      ]
    },
    {
      "cell_type": "code",
      "metadata": {
        "id": "aD3Zx18UWdLe"
      },
      "source": [
        "from sklearn.ensemble import RandomForestClassifier\n",
        "clf = RandomForestClassifier(warm_start = True, random_state=100, n_estimators=100)"
      ],
      "execution_count": null,
      "outputs": []
    },
    {
      "cell_type": "code",
      "metadata": {
        "id": "m3iewHnEWdLf",
        "outputId": "e9ea82e8-95c3-4946-b8af-cf3ae9ea7917"
      },
      "source": [
        "n = len(data_path)\n",
        "steps = n//30\n",
        "prev_index = 0\n",
        "rejected = 0\n",
        "nan_docs = []\n",
        "count_miss = 0\n",
        "changes = []\n",
        "for i in range(steps, n, steps):\n",
        "    data = []\n",
        "    labels = []\n",
        "    for file_path in data_path[prev_index : i] :\n",
        "        tensor_data = torch.load(file_path)\n",
        "        document_id = file_path[len(input_dir)+16 : -3]\n",
        "        data_label_path = path + '\\\\train' + '\\\\truth-problem-' + document_id + '.json'\n",
        "        \n",
        "        with open(data_label_path ) as file:\n",
        "            label_list = json.load(file)['changes']\n",
        "        nan = False;\n",
        "        \n",
        "        nan_tensor = []\n",
        "        itr = 0\n",
        "        if len(tensor_data) != len(label_list):\n",
        "            count_miss +=1\n",
        "            continue\n",
        "        for tensor in tensor_data :\n",
        "            if np.isnan(tensor.numpy()).any():\n",
        "                nan_tensor.append(True)\n",
        "                rejected +=1\n",
        "                nan_docs.append(tensor)\n",
        "            else:\n",
        "                data.append(tensor)\n",
        "                nan_tensor.append(False)\n",
        "                labels.append(label_list[itr])\n",
        "                changes.append(label_list[itr])\n",
        "            itr +=1\n",
        "                \n",
        "        del label_list\n",
        "        del tensor_data\n",
        "    if len(labels) != len(data):\n",
        "        print('Length mismatch ', len(labels), len(data))\n",
        "        continue\n",
        "    X = pd.DataFrame(data)\n",
        "    y = labels\n",
        "    clf.fit(X, y)\n",
        "    clf.n_estimators +=10\n",
        "    prev_index = i\n",
        "    print(i)\n",
        "    print(Counter(labels ))\n",
        "    del X\n",
        "    del y\n",
        "    del data\n",
        "    del labels\n",
        "    \n"
      ],
      "execution_count": null,
      "outputs": [
        {
          "output_type": "stream",
          "text": [
            "373\n",
            "Counter({1: 1253, 0: 1005})\n",
            "746\n",
            "Counter({1: 1180, 0: 958})\n",
            "1119\n",
            "Counter({1: 1230, 0: 950})\n",
            "1492\n",
            "Counter({1: 1105, 0: 988})\n",
            "1865\n",
            "Counter({1: 1184, 0: 969})\n",
            "2238\n",
            "Counter({1: 1189, 0: 1002})\n",
            "2611\n",
            "Counter({1: 1150, 0: 1008})\n",
            "2984\n",
            "Counter({1: 1206, 0: 971})\n",
            "3357\n",
            "Counter({1: 1212, 0: 1052})\n",
            "3730\n",
            "Counter({1: 1169, 0: 1030})\n",
            "4103\n",
            "Counter({1: 1180, 0: 1013})\n",
            "4476\n",
            "Counter({1: 1152, 0: 1028})\n",
            "4849\n",
            "Counter({1: 1151, 0: 1038})\n",
            "5222\n",
            "Counter({1: 1165, 0: 969})\n",
            "5595\n",
            "Counter({1: 1106, 0: 1034})\n",
            "5968\n",
            "Counter({1: 1151, 0: 1020})\n",
            "6341\n",
            "Counter({1: 1140, 0: 1076})\n",
            "6714\n",
            "Counter({1: 1162, 0: 1073})\n",
            "7087\n",
            "Counter({1: 1153, 0: 1033})\n",
            "7460\n",
            "Counter({1: 1226, 0: 1038})\n",
            "7833\n",
            "Counter({1: 1174, 0: 1025})\n",
            "8206\n",
            "Counter({1: 1188, 0: 985})\n",
            "8579\n",
            "Counter({1: 1169, 0: 1095})\n",
            "8952\n",
            "Counter({1: 1202, 0: 995})\n",
            "9325\n",
            "Counter({1: 1234, 0: 1061})\n",
            "9698\n",
            "Counter({1: 1123, 0: 1049})\n",
            "10071\n",
            "Counter({1: 1210, 0: 1052})\n",
            "10444\n",
            "Counter({1: 1180, 0: 979})\n",
            "10817\n",
            "Counter({1: 1235, 0: 992})\n",
            "11190\n",
            "Counter({1: 1105, 0: 973})\n"
          ],
          "name": "stdout"
        }
      ]
    },
    {
      "cell_type": "code",
      "metadata": {
        "id": "WcF2B8yAWdLg",
        "outputId": "2621dff8-f256-47a6-d79f-4234cabf9b1f"
      },
      "source": [
        "sns.countplot(changes)"
      ],
      "execution_count": null,
      "outputs": [
        {
          "output_type": "execute_result",
          "data": {
            "text/plain": [
              "<matplotlib.axes._subplots.AxesSubplot at 0x263412c4448>"
            ]
          },
          "metadata": {
            "tags": []
          },
          "execution_count": 5
        },
        {
          "output_type": "display_data",
          "data": {
            "image/png": "[encoded data removed]",
            "text/plain": [
              "<Figure size 432x288 with 1 Axes>"
            ]
          },
          "metadata": {
            "tags": [],
            "needs_background": "light"
          }
        }
      ]
    },
    {
      "cell_type": "code",
      "metadata": {
        "id": "9KOBg4IwWdLh"
      },
      "source": [
        "import pickle\n",
        "model_path = 'C:\\\\Users\\Asus\\\\Desktop\\\\dataset_2021\\\\models\\\\para_classifier.p'\n",
        "pickle.dump(clf, open(model_path, 'wb'))"
      ],
      "execution_count": null,
      "outputs": []
    },
    {
      "cell_type": "code",
      "metadata": {
        "id": "U9TK06FPWdLi",
        "outputId": "f8ffc507-6fe9-43d6-d4f7-8c298e6657ae"
      },
      "source": [
        "val_path = 'C:\\\\Users\\\\Asus\\\\Desktop\\\\dataset_2021\\\\validation_embedding'\n",
        "val_dir = val_path+'\\\\paragraph_embedding'\n",
        "val_data_path = glob.glob(val_dir+'\\\\*.pt')\n",
        "len(val_data_path)"
      ],
      "execution_count": null,
      "outputs": [
        {
          "output_type": "execute_result",
          "data": {
            "text/plain": [
              "2400"
            ]
          },
          "metadata": {
            "tags": []
          },
          "execution_count": 7
        }
      ]
    },
    {
      "cell_type": "code",
      "metadata": {
        "id": "3l0zLmAaWdLj"
      },
      "source": [
        "from sklearn.metrics import f1_score, classification_report\n",
        "def predict(clf, x_test):\n",
        "    val_data = []\n",
        "    \n",
        "    for tensor_data in x_test:\n",
        "        val_df = pd.DataFrame(tensor_data)\n",
        "        if not np.isnan(tensor_data.numpy()).any():\n",
        "            val_data.append(tensor_data)\n",
        "    val_df = pd.DataFrame(val_data)\n",
        "    \n",
        "    res = clf.predict(val_df) \n",
        "    res = res.tolist()\n",
        "    del val_data\n",
        "    del val_df\n",
        "    return res\n",
        "\n",
        "def accuracy_score(truth_data_path, pred_data_path):\n",
        "    truth_data_path.sort()\n",
        "    pred_data_path.sort()\n",
        "    total = min(len(truth_data_path), len(pred_data_path))\n",
        "    y_true = []\n",
        "    y_pred = []\n",
        "    for i in range(total):\n",
        "        with open(truth_data_path[i], 'r') as file:\n",
        "            truth = json.load(file)['changes']\n",
        "            \n",
        "        with open(pred_data_path[i], 'r') as file:\n",
        "            pred = json.load(file)['changes']\n",
        "            \n",
        "        if len(truth) != len(pred):\n",
        "            continue\n",
        "        for x in truth:\n",
        "            y_true.append(x)\n",
        "        for x in pred:\n",
        "            y_pred.append(x)\n",
        "        \n",
        "    return f1_score(y_true, y_pred), classification_report(y_true, y_pred)\n",
        "            \n",
        "    "
      ],
      "execution_count": null,
      "outputs": []
    },
    {
      "cell_type": "code",
      "metadata": {
        "id": "EVq42CknWdLk"
      },
      "source": [
        "for val_path in val_data_path:\n",
        "    val_tensor = torch.load(val_path)\n",
        "    document_id = val_path[len(val_dir)+19:-3]\n",
        "    dic = {}\n",
        "    dic['changes'] = predict(clf, val_tensor)\n",
        "    output_file_name = path + '\\\\para_output'+'\\\\solution-problem-' + document_id +'.json'\n",
        "    with open(output_file_name, 'w') as output_file:\n",
        "        json.dump(dic, output_file)\n",
        "        \n"
      ],
      "execution_count": null,
      "outputs": []
    },
    {
      "cell_type": "code",
      "metadata": {
        "id": "8LciOwG-WdLk",
        "outputId": "b55c46e6-cb9f-49d4-c23e-d62b54e46644"
      },
      "source": [
        "truth_dir = 'C:\\\\Users\\\\Asus\\\\Desktop\\\\dataset_2021\\\\validation'\n",
        "pred_dir = 'C:\\\\Users\\\\Asus\\\\Desktop\\\\dataset_2021\\\\para_output'\n",
        "truth_data_path = glob.glob(truth_dir+'\\\\*.json')\n",
        "pred_data_path = glob.glob(pred_dir +'\\\\*.json')\n",
        "\n",
        "f1_score, classification_report = accuracy_score(truth_data_path, pred_data_path)\n",
        "\n",
        "print(f1_score)\n",
        "print(classification_report)\n",
        "\n"
      ],
      "execution_count": null,
      "outputs": [
        {
          "output_type": "stream",
          "text": [
            "0.6564939673527325\n",
            "              precision    recall  f1-score   support\n",
            "\n",
            "           0       0.57      0.38      0.46      6372\n",
            "           1       0.58      0.75      0.66      7417\n",
            "\n",
            "    accuracy                           0.58     13789\n",
            "   macro avg       0.58      0.56      0.56     13789\n",
            "weighted avg       0.58      0.58      0.56     13789\n",
            "\n"
          ],
          "name": "stdout"
        }
      ]
    }
  ]
}