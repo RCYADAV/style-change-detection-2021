{
 "cells": [
  {
   "cell_type": "code",
   "execution_count": 1,
   "metadata": {},
   "outputs": [],
   "source": [
    "import pandas as pd\n",
    "import glob\n",
    "import numpy as np\n",
    "import json\n",
    "import torch\n",
    "import sys\n",
    "import seaborn as sns\n",
    "import os\n",
    "import matplotlib.pyplot as plt\n",
    "from sklearn.metrics import classification_report, f1_score, accuracy_score"
   ]
  },
  {
   "cell_type": "code",
   "execution_count": 2,
   "metadata": {},
   "outputs": [],
   "source": [
    "data_embedding = []\n",
    "path = 'C:\\\\Users\\\\Asus\\\\Desktop\\\\dataset_2021'\n",
    "input_dir = path+'\\\\document_embedding_train'\n",
    "data_path = glob.glob(input_dir+'\\\\*.pt')"
   ]
  },
  {
   "cell_type": "code",
   "execution_count": 3,
   "metadata": {},
   "outputs": [
    {
     "data": {
      "text/plain": [
       "11200"
      ]
     },
     "execution_count": 3,
     "metadata": {},
     "output_type": "execute_result"
    }
   ],
   "source": [
    "len(data_path)"
   ]
  },
  {
   "cell_type": "code",
   "execution_count": 4,
   "metadata": {},
   "outputs": [],
   "source": [
    "data = []\n",
    "target = []\n",
    "for file_path in data_path :\n",
    "    embedding = torch.load(file_path)\n",
    "    document_id = file_path[len(input_dir)+16 : -3]\n",
    "    label_path = path + '\\\\train' + '\\\\truth-problem-' + document_id + '.json' # complete path to truth files\n",
    "    with open(label_path, 'r') as f:\n",
    "        label = json.load(f)['multi-author']\n",
    "    if embedding == None or label == None:\n",
    "        continue\n",
    "    data.append(embedding)\n",
    "    target.append(label)\n",
    "    "
   ]
  },
  {
   "cell_type": "code",
   "execution_count": 5,
   "metadata": {},
   "outputs": [
    {
     "data": {
      "text/plain": [
       "(11200, list, torch.Size([1, 768]), 11200)"
      ]
     },
     "execution_count": 5,
     "metadata": {},
     "output_type": "execute_result"
    }
   ],
   "source": [
    "len(data), type(data), data[0].shape, len(target)"
   ]
  },
  {
   "cell_type": "code",
   "execution_count": 6,
   "metadata": {},
   "outputs": [],
   "source": [
    "tensor_data = []\n",
    "for tensor in data:\n",
    "    for x in tensor:\n",
    "        tensor_data.append(x)\n",
    "        "
   ]
  },
  {
   "cell_type": "code",
   "execution_count": 7,
   "metadata": {},
   "outputs": [
    {
     "data": {
      "text/plain": [
       "(11200, torch.Size([768]))"
      ]
     },
     "execution_count": 7,
     "metadata": {},
     "output_type": "execute_result"
    }
   ],
   "source": [
    "len(tensor_data), tensor_data[0].shape"
   ]
  },
  {
   "cell_type": "code",
   "execution_count": 8,
   "metadata": {},
   "outputs": [],
   "source": [
    "df = pd.DataFrame(tensor_data).astype('float32')"
   ]
  },
  {
   "cell_type": "code",
   "execution_count": 9,
   "metadata": {},
   "outputs": [
    {
     "data": {
      "text/html": [
       "<div>\n",
       "<style scoped>\n",
       "    .dataframe tbody tr th:only-of-type {\n",
       "        vertical-align: middle;\n",
       "    }\n",
       "\n",
       "    .dataframe tbody tr th {\n",
       "        vertical-align: top;\n",
       "    }\n",
       "\n",
       "    .dataframe thead th {\n",
       "        text-align: right;\n",
       "    }\n",
       "</style>\n",
       "<table border=\"1\" class=\"dataframe\">\n",
       "  <thead>\n",
       "    <tr style=\"text-align: right;\">\n",
       "      <th></th>\n",
       "      <th>0</th>\n",
       "      <th>1</th>\n",
       "      <th>2</th>\n",
       "      <th>3</th>\n",
       "      <th>4</th>\n",
       "      <th>5</th>\n",
       "      <th>6</th>\n",
       "      <th>7</th>\n",
       "      <th>8</th>\n",
       "      <th>9</th>\n",
       "      <th>...</th>\n",
       "      <th>758</th>\n",
       "      <th>759</th>\n",
       "      <th>760</th>\n",
       "      <th>761</th>\n",
       "      <th>762</th>\n",
       "      <th>763</th>\n",
       "      <th>764</th>\n",
       "      <th>765</th>\n",
       "      <th>766</th>\n",
       "      <th>767</th>\n",
       "    </tr>\n",
       "  </thead>\n",
       "  <tbody>\n",
       "    <tr>\n",
       "      <td>0</td>\n",
       "      <td>48.569702</td>\n",
       "      <td>-17.362169</td>\n",
       "      <td>-9.714126</td>\n",
       "      <td>-28.723328</td>\n",
       "      <td>-41.559948</td>\n",
       "      <td>-6.309685</td>\n",
       "      <td>16.162344</td>\n",
       "      <td>13.519107</td>\n",
       "      <td>-7.103517</td>\n",
       "      <td>17.530294</td>\n",
       "      <td>...</td>\n",
       "      <td>-6.664738</td>\n",
       "      <td>-18.813648</td>\n",
       "      <td>-25.738703</td>\n",
       "      <td>-22.280996</td>\n",
       "      <td>-49.228119</td>\n",
       "      <td>-28.433870</td>\n",
       "      <td>-20.185915</td>\n",
       "      <td>24.349495</td>\n",
       "      <td>0.292360</td>\n",
       "      <td>69.769142</td>\n",
       "    </tr>\n",
       "    <tr>\n",
       "      <td>1</td>\n",
       "      <td>54.299587</td>\n",
       "      <td>-4.942529</td>\n",
       "      <td>-12.176182</td>\n",
       "      <td>-13.921281</td>\n",
       "      <td>-53.492870</td>\n",
       "      <td>-17.085840</td>\n",
       "      <td>6.209059</td>\n",
       "      <td>21.906782</td>\n",
       "      <td>-10.006556</td>\n",
       "      <td>14.018012</td>\n",
       "      <td>...</td>\n",
       "      <td>-37.134106</td>\n",
       "      <td>-33.647846</td>\n",
       "      <td>-46.591885</td>\n",
       "      <td>-18.392845</td>\n",
       "      <td>-50.865005</td>\n",
       "      <td>-42.762497</td>\n",
       "      <td>-20.296873</td>\n",
       "      <td>32.140991</td>\n",
       "      <td>3.492751</td>\n",
       "      <td>86.901741</td>\n",
       "    </tr>\n",
       "    <tr>\n",
       "      <td>2</td>\n",
       "      <td>87.403229</td>\n",
       "      <td>6.573958</td>\n",
       "      <td>-12.802128</td>\n",
       "      <td>-54.586388</td>\n",
       "      <td>-49.575314</td>\n",
       "      <td>-7.973675</td>\n",
       "      <td>3.261373</td>\n",
       "      <td>22.550192</td>\n",
       "      <td>-15.457679</td>\n",
       "      <td>11.507257</td>\n",
       "      <td>...</td>\n",
       "      <td>-46.006382</td>\n",
       "      <td>-0.368157</td>\n",
       "      <td>-40.124931</td>\n",
       "      <td>-27.411226</td>\n",
       "      <td>-56.107365</td>\n",
       "      <td>-62.761398</td>\n",
       "      <td>-16.050732</td>\n",
       "      <td>27.819487</td>\n",
       "      <td>5.714669</td>\n",
       "      <td>89.394798</td>\n",
       "    </tr>\n",
       "    <tr>\n",
       "      <td>3</td>\n",
       "      <td>63.662472</td>\n",
       "      <td>-7.735876</td>\n",
       "      <td>-15.571009</td>\n",
       "      <td>-40.632141</td>\n",
       "      <td>-38.176319</td>\n",
       "      <td>-12.960984</td>\n",
       "      <td>20.593971</td>\n",
       "      <td>20.197847</td>\n",
       "      <td>-15.058145</td>\n",
       "      <td>0.314267</td>\n",
       "      <td>...</td>\n",
       "      <td>-30.427574</td>\n",
       "      <td>-12.465148</td>\n",
       "      <td>-26.423576</td>\n",
       "      <td>-21.276670</td>\n",
       "      <td>-53.978859</td>\n",
       "      <td>-28.301085</td>\n",
       "      <td>0.308761</td>\n",
       "      <td>34.662777</td>\n",
       "      <td>7.055675</td>\n",
       "      <td>75.487350</td>\n",
       "    </tr>\n",
       "    <tr>\n",
       "      <td>4</td>\n",
       "      <td>57.109364</td>\n",
       "      <td>3.616708</td>\n",
       "      <td>-10.890131</td>\n",
       "      <td>-26.081463</td>\n",
       "      <td>-38.774261</td>\n",
       "      <td>-17.888687</td>\n",
       "      <td>14.667863</td>\n",
       "      <td>18.861799</td>\n",
       "      <td>-13.726034</td>\n",
       "      <td>16.981590</td>\n",
       "      <td>...</td>\n",
       "      <td>-33.337887</td>\n",
       "      <td>-21.553514</td>\n",
       "      <td>-31.702682</td>\n",
       "      <td>-16.363527</td>\n",
       "      <td>-52.851925</td>\n",
       "      <td>-45.908894</td>\n",
       "      <td>-1.008760</td>\n",
       "      <td>20.743292</td>\n",
       "      <td>6.228442</td>\n",
       "      <td>86.814713</td>\n",
       "    </tr>\n",
       "  </tbody>\n",
       "</table>\n",
       "<p>5 rows × 768 columns</p>\n",
       "</div>"
      ],
      "text/plain": [
       "         0          1          2          3          4          5    \\\n",
       "0  48.569702 -17.362169  -9.714126 -28.723328 -41.559948  -6.309685   \n",
       "1  54.299587  -4.942529 -12.176182 -13.921281 -53.492870 -17.085840   \n",
       "2  87.403229   6.573958 -12.802128 -54.586388 -49.575314  -7.973675   \n",
       "3  63.662472  -7.735876 -15.571009 -40.632141 -38.176319 -12.960984   \n",
       "4  57.109364   3.616708 -10.890131 -26.081463 -38.774261 -17.888687   \n",
       "\n",
       "         6          7          8          9    ...        758        759  \\\n",
       "0  16.162344  13.519107  -7.103517  17.530294  ...  -6.664738 -18.813648   \n",
       "1   6.209059  21.906782 -10.006556  14.018012  ... -37.134106 -33.647846   \n",
       "2   3.261373  22.550192 -15.457679  11.507257  ... -46.006382  -0.368157   \n",
       "3  20.593971  20.197847 -15.058145   0.314267  ... -30.427574 -12.465148   \n",
       "4  14.667863  18.861799 -13.726034  16.981590  ... -33.337887 -21.553514   \n",
       "\n",
       "         760        761        762        763        764        765       766  \\\n",
       "0 -25.738703 -22.280996 -49.228119 -28.433870 -20.185915  24.349495  0.292360   \n",
       "1 -46.591885 -18.392845 -50.865005 -42.762497 -20.296873  32.140991  3.492751   \n",
       "2 -40.124931 -27.411226 -56.107365 -62.761398 -16.050732  27.819487  5.714669   \n",
       "3 -26.423576 -21.276670 -53.978859 -28.301085   0.308761  34.662777  7.055675   \n",
       "4 -31.702682 -16.363527 -52.851925 -45.908894  -1.008760  20.743292  6.228442   \n",
       "\n",
       "         767  \n",
       "0  69.769142  \n",
       "1  86.901741  \n",
       "2  89.394798  \n",
       "3  75.487350  \n",
       "4  86.814713  \n",
       "\n",
       "[5 rows x 768 columns]"
      ]
     },
     "execution_count": 9,
     "metadata": {},
     "output_type": "execute_result"
    }
   ],
   "source": [
    "df.head()"
   ]
  },
  {
   "cell_type": "code",
   "execution_count": 10,
   "metadata": {},
   "outputs": [
    {
     "name": "stdout",
     "output_type": "stream",
     "text": [
      "Counter({1: 8400, 0: 2800})\n"
     ]
    },
    {
     "data": {
      "text/plain": [
       "Text(0.5, 1.0, '0 :Single author and 1: Multi-authors')"
      ]
     },
     "execution_count": 10,
     "metadata": {},
     "output_type": "execute_result"
    },
    {
     "data": {
      "image/png": "[encoded data removed]",
      "text/plain": [
       "<Figure size 432x288 with 1 Axes>"
      ]
     },
     "metadata": {
      "needs_background": "light"
     },
     "output_type": "display_data"
    }
   ],
   "source": [
    "from collections import Counter\n",
    "print(Counter(target) )\n",
    "chart = sns.countplot(target)\n",
    "plt.title(\"0 :Single author and 1: Multi-authors\")"
   ]
  },
  {
   "cell_type": "code",
   "execution_count": 11,
   "metadata": {},
   "outputs": [],
   "source": [
    "from sklearn.model_selection import train_test_split\n",
    "x_train, x_test, y_train, y_test = train_test_split(df, target, test_size = 0.2, random_state = 42)"
   ]
  },
  {
   "cell_type": "code",
   "execution_count": 12,
   "metadata": {},
   "outputs": [
    {
     "data": {
      "text/plain": [
       "(8960, 2240, 8960, 2240)"
      ]
     },
     "execution_count": 12,
     "metadata": {},
     "output_type": "execute_result"
    }
   ],
   "source": [
    "len(x_train), len(x_test), len(y_train), len(y_test) "
   ]
  },
  {
   "cell_type": "code",
   "execution_count": 13,
   "metadata": {},
   "outputs": [],
   "source": [
    "def plot_prediction(clf, x_test, y_test):\n",
    "    from sklearn.metrics import confusion_matrix, accuracy_score, plot_confusion_matrix\n",
    "    from matplotlib import pyplot as plt\n",
    "    confusion_mat = plot_confusion_matrix(clf, x_test, y_test , values_format= '.5g' )\n",
    "    confusion_mat.ax_.set_title('Confusion Matrix ', color = 'w')\n",
    "    plt.xlabel('Predicted Label', color = 'w')\n",
    "    plt.ylabel('True Label ', color = 'w')\n",
    "    plt.show()\n",
    "    "
   ]
  },
  {
   "cell_type": "code",
   "execution_count": 14,
   "metadata": {},
   "outputs": [
    {
     "data": {
      "text/plain": [
       "RandomForestClassifier(max_features='log2', n_estimators=150, random_state=0)"
      ]
     },
     "execution_count": 14,
     "metadata": {},
     "output_type": "execute_result"
    }
   ],
   "source": [
    "from sklearn.ensemble import RandomForestClassifier\n",
    "model = RandomForestClassifier( random_state=0, n_estimators=150, max_features = 'log2')\n",
    "model.fit(x_train, y_train)"
   ]
  },
  {
   "cell_type": "code",
   "execution_count": 15,
   "metadata": {},
   "outputs": [
    {
     "name": "stdout",
     "output_type": "stream",
     "text": [
      "0.7602678571428572\n",
      "              precision    recall  f1-score   support\n",
      "\n",
      "           0       0.65      0.15      0.24       577\n",
      "           1       0.77      0.97      0.86      1663\n",
      "\n",
      "    accuracy                           0.76      2240\n",
      "   macro avg       0.71      0.56      0.55      2240\n",
      "weighted avg       0.74      0.76      0.70      2240\n",
      "\n"
     ]
    },
    {
     "data": {
      "image/png": "[encoded data removed]",
      "text/plain": [
       "<Figure size 432x288 with 2 Axes>"
      ]
     },
     "metadata": {
      "needs_background": "light"
     },
     "output_type": "display_data"
    }
   ],
   "source": [
    "y_pred = model.predict(x_test)\n",
    "accuracy = accuracy_score(y_test, y_pred)\n",
    "print(accuracy)\n",
    "print(classification_report(y_test, y_pred) )\n",
    "plot_prediction(model, x_test, y_test)"
   ]
  },
  {
   "cell_type": "markdown",
   "metadata": {},
   "source": [
    "# With class_wight = 'balanced'"
   ]
  },
  {
   "cell_type": "code",
   "execution_count": 16,
   "metadata": {},
   "outputs": [
    {
     "data": {
      "text/plain": [
       "RandomForestClassifier(class_weight='balanced', max_features='log2',\n",
       "                       n_estimators=150, random_state=0)"
      ]
     },
     "execution_count": 16,
     "metadata": {},
     "output_type": "execute_result"
    }
   ],
   "source": [
    "from sklearn.ensemble import RandomForestClassifier\n",
    "model = RandomForestClassifier( random_state=0, n_estimators=150, max_features = 'log2', class_weight='balanced')\n",
    "model.fit(x_train, y_train)"
   ]
  },
  {
   "cell_type": "code",
   "execution_count": 17,
   "metadata": {},
   "outputs": [
    {
     "name": "stdout",
     "output_type": "stream",
     "text": [
      "0.7455357142857143\n",
      "              precision    recall  f1-score   support\n",
      "\n",
      "           0       0.61      0.03      0.07       577\n",
      "           1       0.75      0.99      0.85      1663\n",
      "\n",
      "    accuracy                           0.75      2240\n",
      "   macro avg       0.68      0.51      0.46      2240\n",
      "weighted avg       0.71      0.75      0.65      2240\n",
      "\n"
     ]
    },
    {
     "data": {
      "image/png": "[encoded data removed]",
      "text/plain": [
       "<Figure size 432x288 with 2 Axes>"
      ]
     },
     "metadata": {
      "needs_background": "light"
     },
     "output_type": "display_data"
    }
   ],
   "source": [
    "y_pred = model.predict(x_test)\n",
    "accuracy = accuracy_score(y_test, y_pred)\n",
    "print(accuracy)\n",
    "print(classification_report(y_test, y_pred) )\n",
    "plot_prediction(model, x_test, y_test)"
   ]
  },
  {
   "cell_type": "markdown",
   "metadata": {},
   "source": [
    "# Oversampling"
   ]
  },
  {
   "cell_type": "code",
   "execution_count": 18,
   "metadata": {},
   "outputs": [],
   "source": [
    "X = df\n",
    "X['labels'] = target\n"
   ]
  },
  {
   "cell_type": "code",
   "execution_count": 19,
   "metadata": {},
   "outputs": [
    {
     "data": {
      "text/plain": [
       "(8400, 2800)"
      ]
     },
     "execution_count": 19,
     "metadata": {},
     "output_type": "execute_result"
    }
   ],
   "source": [
    "class_count_1, class_count_0 =X.labels.value_counts()\n",
    "class_count_1, class_count_0"
   ]
  },
  {
   "cell_type": "code",
   "execution_count": 20,
   "metadata": {},
   "outputs": [],
   "source": [
    "df_class_0 = X[ X['labels'] == 0]\n",
    "df_class_1 = X[ X['labels'] == 1]\n",
    "class_0_over = df_class_0.sample(n=class_count_1, replace=True)"
   ]
  },
  {
   "cell_type": "code",
   "execution_count": 21,
   "metadata": {},
   "outputs": [],
   "source": [
    "X = pd.concat([df_class_1, class_0_over], axis=0)\n",
    "X = X.sample(frac=1)\n",
    "y = X['labels']\n",
    "X.drop('labels', axis=1, inplace=True)"
   ]
  },
  {
   "cell_type": "code",
   "execution_count": 22,
   "metadata": {},
   "outputs": [
    {
     "name": "stdout",
     "output_type": "stream",
     "text": [
      "Counter({1: 8400, 0: 8400})\n"
     ]
    },
    {
     "data": {
      "text/plain": [
       "<matplotlib.axes._subplots.AxesSubplot at 0x25d6563b948>"
      ]
     },
     "execution_count": 22,
     "metadata": {},
     "output_type": "execute_result"
    },
    {
     "data": {
      "image/png": "[encoded data removed]",
      "text/plain": [
       "<Figure size 432x288 with 1 Axes>"
      ]
     },
     "metadata": {
      "needs_background": "light"
     },
     "output_type": "display_data"
    }
   ],
   "source": [
    "print(Counter(y))\n",
    "sns.countplot(y)"
   ]
  },
  {
   "cell_type": "code",
   "execution_count": 23,
   "metadata": {},
   "outputs": [],
   "source": [
    "x_train, x_test, y_train, y_test = train_test_split(X, y, test_size = 0.2, random_state = 42)"
   ]
  },
  {
   "cell_type": "code",
   "execution_count": 24,
   "metadata": {},
   "outputs": [
    {
     "data": {
      "text/plain": [
       "RandomForestClassifier(max_features='log2', n_estimators=150, random_state=0)"
      ]
     },
     "execution_count": 24,
     "metadata": {},
     "output_type": "execute_result"
    }
   ],
   "source": [
    "from sklearn.ensemble import RandomForestClassifier\n",
    "model = RandomForestClassifier( random_state=0, n_estimators=150, max_features = 'log2')\n",
    "model.fit(x_train, y_train)"
   ]
  },
  {
   "cell_type": "code",
   "execution_count": 25,
   "metadata": {},
   "outputs": [
    {
     "name": "stdout",
     "output_type": "stream",
     "text": [
      "0.9383928571428571\n",
      "              precision    recall  f1-score   support\n",
      "\n",
      "           0       0.94      0.94      0.94      1710\n",
      "           1       0.94      0.94      0.94      1650\n",
      "\n",
      "    accuracy                           0.94      3360\n",
      "   macro avg       0.94      0.94      0.94      3360\n",
      "weighted avg       0.94      0.94      0.94      3360\n",
      "\n"
     ]
    },
    {
     "data": {
      "image/png": "[encoded data removed]",
      "text/plain": [
       "<Figure size 432x288 with 2 Axes>"
      ]
     },
     "metadata": {
      "needs_background": "light"
     },
     "output_type": "display_data"
    }
   ],
   "source": [
    "y_pred = model.predict(x_test)\n",
    "accuracy = accuracy_score(y_test, y_pred)\n",
    "print(accuracy)\n",
    "print(classification_report(y_test, y_pred) )\n",
    "plot_prediction(model, x_test, y_test)\n",
    "\n",
    "#  Here we got some nice result. But it is false result. Why? As I did oversampling and then splited data for training, testing.\n",
    "# Now the testing and training data have some common values due to oversampling and when these values seen by model it predicts \n",
    "# correct output as the model is already seen those values."
   ]
  },
  {
   "cell_type": "code",
   "execution_count": 26,
   "metadata": {},
   "outputs": [
    {
     "data": {
      "text/plain": [
       "2400"
      ]
     },
     "execution_count": 26,
     "metadata": {},
     "output_type": "execute_result"
    }
   ],
   "source": [
    "validation_data = []\n",
    "validation_label = []\n",
    "path = 'C:\\\\Users\\\\Asus\\\\Desktop\\\\dataset_2021'\n",
    "input_dir = path+'\\\\validation_embedding\\\\document_embedding'\n",
    "data_path = glob.glob(input_dir+'\\\\*.pt')\n",
    "len(data_path)"
   ]
  },
  {
   "cell_type": "code",
   "execution_count": 27,
   "metadata": {},
   "outputs": [],
   "source": [
    "for file_path in data_path :\n",
    "    tensor_data = torch.load(file_path)\n",
    "    document_id = file_path[len(input_dir)+20 : -3]\n",
    "    validation_data.append(tensor_data)\n",
    "    file_path_label = path + '\\\\validation'+ '\\\\truth-problem-' + document_id + '.json'\n",
    "    with open(file_path_label) as f :\n",
    "        truth_document = json.load(f)\n",
    "        validation_label.append(truth_document['multi-author'])"
   ]
  },
  {
   "cell_type": "code",
   "execution_count": 28,
   "metadata": {},
   "outputs": [
    {
     "data": {
      "text/plain": [
       "(2400, 2400)"
      ]
     },
     "execution_count": 28,
     "metadata": {},
     "output_type": "execute_result"
    }
   ],
   "source": [
    "len(validation_data), len(validation_label)"
   ]
  },
  {
   "cell_type": "code",
   "execution_count": 29,
   "metadata": {},
   "outputs": [],
   "source": [
    "validation_tensor_data = []\n",
    "for tensor in validation_data:\n",
    "    for x in tensor:\n",
    "        validation_tensor_data.append(x)\n",
    "x_validation = pd.DataFrame(validation_tensor_data ).astype('float32')\n",
    "y_validation = np.array(validation_label)"
   ]
  },
  {
   "cell_type": "code",
   "execution_count": 30,
   "metadata": {},
   "outputs": [
    {
     "data": {
      "text/html": [
       "<div>\n",
       "<style scoped>\n",
       "    .dataframe tbody tr th:only-of-type {\n",
       "        vertical-align: middle;\n",
       "    }\n",
       "\n",
       "    .dataframe tbody tr th {\n",
       "        vertical-align: top;\n",
       "    }\n",
       "\n",
       "    .dataframe thead th {\n",
       "        text-align: right;\n",
       "    }\n",
       "</style>\n",
       "<table border=\"1\" class=\"dataframe\">\n",
       "  <thead>\n",
       "    <tr style=\"text-align: right;\">\n",
       "      <th></th>\n",
       "      <th>0</th>\n",
       "      <th>1</th>\n",
       "      <th>2</th>\n",
       "      <th>3</th>\n",
       "      <th>4</th>\n",
       "      <th>5</th>\n",
       "      <th>6</th>\n",
       "      <th>7</th>\n",
       "      <th>8</th>\n",
       "      <th>9</th>\n",
       "      <th>...</th>\n",
       "      <th>758</th>\n",
       "      <th>759</th>\n",
       "      <th>760</th>\n",
       "      <th>761</th>\n",
       "      <th>762</th>\n",
       "      <th>763</th>\n",
       "      <th>764</th>\n",
       "      <th>765</th>\n",
       "      <th>766</th>\n",
       "      <th>767</th>\n",
       "    </tr>\n",
       "  </thead>\n",
       "  <tbody>\n",
       "    <tr>\n",
       "      <td>0</td>\n",
       "      <td>98.925003</td>\n",
       "      <td>-20.690702</td>\n",
       "      <td>-7.349600</td>\n",
       "      <td>-58.511997</td>\n",
       "      <td>-79.852928</td>\n",
       "      <td>-2.918259</td>\n",
       "      <td>6.939056</td>\n",
       "      <td>31.152529</td>\n",
       "      <td>-31.365992</td>\n",
       "      <td>28.577959</td>\n",
       "      <td>...</td>\n",
       "      <td>-46.538914</td>\n",
       "      <td>-32.252941</td>\n",
       "      <td>-64.477089</td>\n",
       "      <td>10.512039</td>\n",
       "      <td>-29.024473</td>\n",
       "      <td>-93.140717</td>\n",
       "      <td>8.095277</td>\n",
       "      <td>-20.641806</td>\n",
       "      <td>30.447838</td>\n",
       "      <td>133.148788</td>\n",
       "    </tr>\n",
       "    <tr>\n",
       "      <td>1</td>\n",
       "      <td>41.945354</td>\n",
       "      <td>-6.116551</td>\n",
       "      <td>-15.695839</td>\n",
       "      <td>-16.173857</td>\n",
       "      <td>-43.146179</td>\n",
       "      <td>-31.354801</td>\n",
       "      <td>10.100378</td>\n",
       "      <td>30.811821</td>\n",
       "      <td>-20.552214</td>\n",
       "      <td>26.072079</td>\n",
       "      <td>...</td>\n",
       "      <td>-24.913904</td>\n",
       "      <td>-14.608386</td>\n",
       "      <td>-20.966810</td>\n",
       "      <td>-0.895891</td>\n",
       "      <td>-66.475014</td>\n",
       "      <td>-36.553539</td>\n",
       "      <td>-13.367286</td>\n",
       "      <td>32.645954</td>\n",
       "      <td>13.604811</td>\n",
       "      <td>76.203850</td>\n",
       "    </tr>\n",
       "    <tr>\n",
       "      <td>2</td>\n",
       "      <td>70.658539</td>\n",
       "      <td>-8.729010</td>\n",
       "      <td>15.945090</td>\n",
       "      <td>-31.785746</td>\n",
       "      <td>-72.124313</td>\n",
       "      <td>-18.763790</td>\n",
       "      <td>18.305937</td>\n",
       "      <td>37.210369</td>\n",
       "      <td>-20.847904</td>\n",
       "      <td>5.121190</td>\n",
       "      <td>...</td>\n",
       "      <td>-35.255714</td>\n",
       "      <td>-40.239029</td>\n",
       "      <td>-19.377146</td>\n",
       "      <td>-20.653151</td>\n",
       "      <td>-69.061417</td>\n",
       "      <td>-50.373894</td>\n",
       "      <td>1.328928</td>\n",
       "      <td>58.495934</td>\n",
       "      <td>3.589922</td>\n",
       "      <td>105.002892</td>\n",
       "    </tr>\n",
       "    <tr>\n",
       "      <td>3</td>\n",
       "      <td>82.424141</td>\n",
       "      <td>4.661307</td>\n",
       "      <td>-21.980148</td>\n",
       "      <td>-80.448898</td>\n",
       "      <td>-62.228207</td>\n",
       "      <td>-20.745144</td>\n",
       "      <td>25.873028</td>\n",
       "      <td>39.730022</td>\n",
       "      <td>-11.552150</td>\n",
       "      <td>5.011914</td>\n",
       "      <td>...</td>\n",
       "      <td>-25.485615</td>\n",
       "      <td>-15.884963</td>\n",
       "      <td>-55.525234</td>\n",
       "      <td>-10.206033</td>\n",
       "      <td>-63.214714</td>\n",
       "      <td>-65.609467</td>\n",
       "      <td>-5.953705</td>\n",
       "      <td>29.932226</td>\n",
       "      <td>-9.209470</td>\n",
       "      <td>88.154953</td>\n",
       "    </tr>\n",
       "    <tr>\n",
       "      <td>4</td>\n",
       "      <td>68.334763</td>\n",
       "      <td>-5.011245</td>\n",
       "      <td>-5.095279</td>\n",
       "      <td>-17.261980</td>\n",
       "      <td>-49.249889</td>\n",
       "      <td>-22.586538</td>\n",
       "      <td>14.777707</td>\n",
       "      <td>25.782087</td>\n",
       "      <td>-27.420216</td>\n",
       "      <td>34.442551</td>\n",
       "      <td>...</td>\n",
       "      <td>-32.934231</td>\n",
       "      <td>-15.761954</td>\n",
       "      <td>-25.091475</td>\n",
       "      <td>-22.419548</td>\n",
       "      <td>-68.271133</td>\n",
       "      <td>-53.148865</td>\n",
       "      <td>-5.267869</td>\n",
       "      <td>27.147058</td>\n",
       "      <td>17.379412</td>\n",
       "      <td>100.555199</td>\n",
       "    </tr>\n",
       "  </tbody>\n",
       "</table>\n",
       "<p>5 rows × 768 columns</p>\n",
       "</div>"
      ],
      "text/plain": [
       "         0          1          2          3          4          5    \\\n",
       "0  98.925003 -20.690702  -7.349600 -58.511997 -79.852928  -2.918259   \n",
       "1  41.945354  -6.116551 -15.695839 -16.173857 -43.146179 -31.354801   \n",
       "2  70.658539  -8.729010  15.945090 -31.785746 -72.124313 -18.763790   \n",
       "3  82.424141   4.661307 -21.980148 -80.448898 -62.228207 -20.745144   \n",
       "4  68.334763  -5.011245  -5.095279 -17.261980 -49.249889 -22.586538   \n",
       "\n",
       "         6          7          8          9    ...        758        759  \\\n",
       "0   6.939056  31.152529 -31.365992  28.577959  ... -46.538914 -32.252941   \n",
       "1  10.100378  30.811821 -20.552214  26.072079  ... -24.913904 -14.608386   \n",
       "2  18.305937  37.210369 -20.847904   5.121190  ... -35.255714 -40.239029   \n",
       "3  25.873028  39.730022 -11.552150   5.011914  ... -25.485615 -15.884963   \n",
       "4  14.777707  25.782087 -27.420216  34.442551  ... -32.934231 -15.761954   \n",
       "\n",
       "         760        761        762        763        764        765  \\\n",
       "0 -64.477089  10.512039 -29.024473 -93.140717   8.095277 -20.641806   \n",
       "1 -20.966810  -0.895891 -66.475014 -36.553539 -13.367286  32.645954   \n",
       "2 -19.377146 -20.653151 -69.061417 -50.373894   1.328928  58.495934   \n",
       "3 -55.525234 -10.206033 -63.214714 -65.609467  -5.953705  29.932226   \n",
       "4 -25.091475 -22.419548 -68.271133 -53.148865  -5.267869  27.147058   \n",
       "\n",
       "         766         767  \n",
       "0  30.447838  133.148788  \n",
       "1  13.604811   76.203850  \n",
       "2   3.589922  105.002892  \n",
       "3  -9.209470   88.154953  \n",
       "4  17.379412  100.555199  \n",
       "\n",
       "[5 rows x 768 columns]"
      ]
     },
     "execution_count": 30,
     "metadata": {},
     "output_type": "execute_result"
    }
   ],
   "source": [
    "x_validation.head()"
   ]
  },
  {
   "cell_type": "code",
   "execution_count": 31,
   "metadata": {},
   "outputs": [
    {
     "name": "stdout",
     "output_type": "stream",
     "text": [
      "0.74625\n",
      "              precision    recall  f1-score   support\n",
      "\n",
      "           0       0.48      0.18      0.26       600\n",
      "           1       0.77      0.94      0.85      1800\n",
      "\n",
      "    accuracy                           0.75      2400\n",
      "   macro avg       0.63      0.56      0.55      2400\n",
      "weighted avg       0.70      0.75      0.70      2400\n",
      "\n"
     ]
    },
    {
     "data": {
      "image/png": "[encoded data removed]",
      "text/plain": [
       "<Figure size 432x288 with 2 Axes>"
      ]
     },
     "metadata": {
      "needs_background": "light"
     },
     "output_type": "display_data"
    }
   ],
   "source": [
    "y_pred = model.predict(x_validation)\n",
    "accuracy = accuracy_score(y_validation, y_pred)\n",
    "print(accuracy)\n",
    "print(classification_report(y_validation, y_pred) )\n",
    "plot_prediction(model, x_validation, y_validation)"
   ]
  }
 ],
 "metadata": {
  "kernelspec": {
   "display_name": "Python 3",
   "language": "python",
   "name": "python3"
  },
  "language_info": {
   "codemirror_mode": {
    "name": "ipython",
    "version": 3
   },
   "file_extension": ".py",
   "mimetype": "text/x-python",
   "name": "python",
   "nbconvert_exporter": "python",
   "pygments_lexer": "ipython3",
   "version": "3.7.4"
  }
 },
 "nbformat": 4,
 "nbformat_minor": 2
}
